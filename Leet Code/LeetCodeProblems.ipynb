{
 "cells": [
  {
   "cell_type": "code",
   "execution_count": 9,
   "metadata": {},
   "outputs": [
    {
     "name": "stdout",
     "output_type": "stream",
     "text": [
      "1602\n"
     ]
    }
   ],
   "source": [
    "#Leet Code #17: Roman to Arabic numbers\n",
    "class Solution:\n",
    "    def romanToInt(self, s: str) -> int:\n",
    "        s = s.replace(\"IV\", \"IIII\")\n",
    "        s = s.replace(\"IX\", \"VIIII\")\n",
    "        s = s.replace(\"XL\", \"XXXX\")\n",
    "        s = s.replace(\"XC\", \"LXXXX\")\n",
    "        s = s.replace(\"CD\", \"CCCC\")\n",
    "        s = s.replace(\"CM\", \"DCCCC\")\n",
    "\n",
    "        s_split = \",\".join(s)\n",
    "\n",
    "        s_split = s_split.replace(\"I\", \"1\")\n",
    "        s_split = s_split.replace(\"V\", \"5\")\n",
    "        s_split = s_split.replace(\"X\", \"10\")\n",
    "        s_split = s_split.replace(\"L\", \"50\")\n",
    "        s_split = s_split.replace(\"C\", \"100\")\n",
    "        s_split = s_split.replace(\"D\", \"500\")\n",
    "        s_split = s_split.replace(\"M\", \"1000\")\n",
    "\n",
    "        s_list = s_split.split(\",\")\n",
    "\n",
    "        s_int =  [int(x) for x in s_list]\n",
    "\n",
    "        total = sum(s_int)\n",
    "        return total\n",
    "\n",
    "solver = Solution()\n",
    "result = solver.romanToInt(\"MDCII\")\n",
    "print(result) "
   ]
  },
  {
   "cell_type": "code",
   "execution_count": 27,
   "metadata": {},
   "outputs": [
    {
     "name": "stdout",
     "output_type": "stream",
     "text": [
      "[0, 0, 0]\n"
     ]
    }
   ],
   "source": [
    "class Solution:\n",
    "    def countBits(self, n: int):\n",
    "\n",
    "        array = []\n",
    "        for i in range(n+1):\n",
    "            x = list(str(bin(i).replace(\"0b\", \"\")))                   \n",
    "            count = x.count(\"1\")\n",
    "            array.append(count)\n",
    "        return array\n",
    "\n",
    "\n",
    "solver = Solution()\n",
    "print(solver.countBits(2))"
   ]
  },
  {
   "cell_type": "code",
   "execution_count": 49,
   "metadata": {},
   "outputs": [
    {
     "name": "stdout",
     "output_type": "stream",
     "text": [
      "[0, 1]\n"
     ]
    }
   ],
   "source": [
    "import itertools\n",
    "from typing import List\n",
    "\n",
    "class Solution:\n",
    "    def twoSum(self, nums: List[int], target: int) -> List[int]:\n",
    "        \n",
    "\n",
    "        pairs = list(itertools.combinations(nums, 2))\n",
    "        \n",
    "        \n",
    "        sums = [sum(x) for x in pairs]\n",
    "        count = 0\n",
    "        items_as_dict = dict(zip(nums,range(0,len(nums))))      \n",
    "                \n",
    "        for i in range(len(sums)):\n",
    "            if sums[i] == target:\n",
    "                result = []\n",
    "                result.append(items_as_dict[pairs[i][0]])\n",
    "                result.append(items_as_dict[pairs[i][1]])\n",
    "                return result\n",
    "\n",
    "                \n",
    "\n",
    "solver = Solution()\n",
    "print(solver.twoSum([2,7,11,15], 9))"
   ]
  }
 ],
 "metadata": {
  "kernelspec": {
   "display_name": "Python 3",
   "language": "python",
   "name": "python3"
  },
  "language_info": {
   "codemirror_mode": {
    "name": "ipython",
    "version": 3
   },
   "file_extension": ".py",
   "mimetype": "text/x-python",
   "name": "python",
   "nbconvert_exporter": "python",
   "pygments_lexer": "ipython3",
   "version": "3.10.6 (main, Nov 14 2022, 16:10:14) [GCC 11.3.0]"
  },
  "orig_nbformat": 4,
  "vscode": {
   "interpreter": {
    "hash": "916dbcbb3f70747c44a77c7bcd40155683ae19c65e1c03b4aa3499c5328201f1"
   }
  }
 },
 "nbformat": 4,
 "nbformat_minor": 2
}
