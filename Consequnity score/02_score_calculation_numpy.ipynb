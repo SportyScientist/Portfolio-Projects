{
 "cells": [
  {
   "cell_type": "code",
   "execution_count": 1,
   "metadata": {},
   "outputs": [],
   "source": [
    "\n",
    "import sys\n",
    "import os\n",
    "from numba import jit\n",
    "import numpy as np\n",
    "import pandas as pd\n",
    "\n",
    "file_path = \"chr1_2.gt.tsv\"\n",
    "region_length = 50\n",
    "hom_score = 0.025\n",
    "het_score = -0.975\n",
    "\n"
   ]
  },
  {
   "cell_type": "code",
   "execution_count": 2,
   "metadata": {},
   "outputs": [],
   "source": [
    "if file_path.endswith('.csv') or file_path.endswith('.csv.gz'):\n",
    "    data = pd.read_csv(file_path, header = 0)\n",
    "\n",
    "elif file_path.endswith('.tsv') or file_path.endswith('.tsv.gz'):\n",
    "    data = pd.read_csv(file_path, sep = \"\\t\", header = 0)\n",
    "\n",
    "data.columns = [\"chr\", \"locus\", \"allele\", \"seq_depth\"]\n",
    "\n",
    "data = data.iloc[:10_000]"
   ]
  },
  {
   "cell_type": "code",
   "execution_count": 3,
   "metadata": {},
   "outputs": [],
   "source": [
    "\n",
    "def get_chromosome_list(data):\n",
    "    #get all chromosomes present\n",
    "    chromosomes = data['chr'].unique()\n",
    "    chr_list = chromosomes.tolist()\n",
    "    \n",
    "    # convert to seperated list for iteration later\n",
    "    return chr_list\n",
    "\n",
    "chr_list = get_chromosome_list(data)\n",
    "#print(chr_list)\n"
   ]
  },
  {
   "cell_type": "code",
   "execution_count": 4,
   "metadata": {},
   "outputs": [
    {
     "name": "stdout",
     "output_type": "stream",
     "text": [
      "     chr    start      end  n_hom\n",
      "442    1  3849266  3874699     54\n",
      "451    1  4065623  4092868     53\n",
      "660    1  5234177  5246541     54\n"
     ]
    }
   ],
   "source": [
    "def get_regions(chr_list):\n",
    "     #initiate list for results\n",
    "    results = []\n",
    "    #we can't have stretches spanning chromosomes, therefore we go through each chromosome separate\n",
    "    #option would be to introduce a check if more than one chr is present, but don't think it makes a time difference?\n",
    "    for chr in chr_list:\n",
    "        chr_data = data.loc[data[\"chr\"] == chr]\n",
    "            \n",
    "        end = chr_data.shape[0] #get nrows\n",
    "\n",
    "        #set to first row for now\n",
    "        count = 0\n",
    "        start = 0\n",
    "\n",
    "        \n",
    "        for locus in range(0,end):\n",
    "\n",
    "            if chr_data.loc[locus,\"allele\"] == \"0|0\" or chr_data.loc[locus,\"allele\"] == \"1|1\":\n",
    "                count +=1\n",
    "                \n",
    "            else:\n",
    "                if count != 0:\n",
    "                    stretch = [chr, chr_data.iloc[start,1], chr_data.iloc[locus,1], count] \n",
    "                    count = 0\n",
    "                    start = locus\n",
    "                    results.append(stretch)\n",
    "                else:\n",
    "                    continue\n",
    "\n",
    "    regions = pd.DataFrame(results, columns = ['chr', 'start', 'end', 'n_hom'])\n",
    "    return regions\n",
    "\n",
    "regions = get_regions(chr_list)\n",
    "\n",
    "regions_filt = regions[regions[\"n_hom\"] > region_length]\n",
    "\n",
    "print(regions_filt)"
   ]
  },
  {
   "cell_type": "code",
   "execution_count": 5,
   "metadata": {},
   "outputs": [
    {
     "name": "stdout",
     "output_type": "stream",
     "text": [
      "     chr    start      end  n_hom  start_score\n",
      "442    1  3849266  3874699     54        1.350\n",
      "451    1  4065623  4092868     53        1.325\n",
      "660    1  5234177  5246541     54        1.350\n"
     ]
    }
   ],
   "source": [
    "\n",
    "regions_filt = regions_filt.assign(start_score=regions_filt[\"n_hom\"] * hom_score)\n",
    "\n",
    "print(regions_filt)"
   ]
  },
  {
   "cell_type": "code",
   "execution_count": 6,
   "metadata": {},
   "outputs": [
    {
     "name": "stdout",
     "output_type": "stream",
     "text": [
      "      chr    locus allele  seq_depth     id  allele_score\n",
      "0       1    55326    1|1      19099      1         0.025\n",
      "1       1    55545    1|1      17058      2         0.025\n",
      "2       1    61987    1|0      20876      3        -0.975\n",
      "3       1    61989    1|0      20815      4        -0.975\n",
      "4       1    69511    1|0     368387      5        -0.975\n",
      "...   ...      ...    ...        ...    ...           ...\n",
      "9995    1  7555945    1|1      23119   9996         0.025\n",
      "9996    1  7555953    1|1      22703   9997         0.025\n",
      "9997    1  7556175    1|0      20453   9998        -0.975\n",
      "9998    1  7556370    1|1      21110   9999         0.025\n",
      "9999    1  7556533    1|0      23955  10000        -0.975\n",
      "\n",
      "[10000 rows x 6 columns]\n"
     ]
    }
   ],
   "source": [
    "def get_score(data):\n",
    "    data = data.assign(id = range(1, len(data) + 1))\n",
    "    data['allele_score'] = data['allele'].apply(lambda x: hom_score if x in [\"1|1\",\"0|0\"] else (het_score if x in [\"1|0\",\"0|1\"] else x))\n",
    "    data['allele_score'] = pd.to_numeric(data['allele_score'], errors='coerce')\n",
    "    return data\n",
    "\n",
    "data = get_score(data)\n",
    "print(data)"
   ]
  },
  {
   "cell_type": "code",
   "execution_count": 7,
   "metadata": {},
   "outputs": [
    {
     "ename": "ValueError",
     "evalue": "Location based indexing can only have [integer, integer slice (START point is INCLUDED, END point is EXCLUDED), listlike of integers, boolean array] types",
     "output_type": "error",
     "traceback": [
      "\u001b[0;31m---------------------------------------------------------------------------\u001b[0m",
      "\u001b[0;31mValueError\u001b[0m                                Traceback (most recent call last)",
      "File \u001b[0;32m~/.local/lib/python3.10/site-packages/pandas/core/indexing.py:873\u001b[0m, in \u001b[0;36m_LocationIndexer._validate_tuple_indexer\u001b[0;34m(self, key)\u001b[0m\n\u001b[1;32m    872\u001b[0m \u001b[39mtry\u001b[39;00m:\n\u001b[0;32m--> 873\u001b[0m     \u001b[39mself\u001b[39;49m\u001b[39m.\u001b[39;49m_validate_key(k, i)\n\u001b[1;32m    874\u001b[0m \u001b[39mexcept\u001b[39;00m \u001b[39mValueError\u001b[39;00m \u001b[39mas\u001b[39;00m err:\n",
      "File \u001b[0;32m~/.local/lib/python3.10/site-packages/pandas/core/indexing.py:1483\u001b[0m, in \u001b[0;36m_iLocIndexer._validate_key\u001b[0;34m(self, key, axis)\u001b[0m\n\u001b[1;32m   1482\u001b[0m \u001b[39melse\u001b[39;00m:\n\u001b[0;32m-> 1483\u001b[0m     \u001b[39mraise\u001b[39;00m \u001b[39mValueError\u001b[39;00m(\u001b[39mf\u001b[39m\u001b[39m\"\u001b[39m\u001b[39mCan only index by location with a [\u001b[39m\u001b[39m{\u001b[39;00m\u001b[39mself\u001b[39m\u001b[39m.\u001b[39m_valid_types\u001b[39m}\u001b[39;00m\u001b[39m]\u001b[39m\u001b[39m\"\u001b[39m)\n",
      "\u001b[0;31mValueError\u001b[0m: Can only index by location with a [integer, integer slice (START point is INCLUDED, END point is EXCLUDED), listlike of integers, boolean array]",
      "\nThe above exception was the direct cause of the following exception:\n",
      "\u001b[0;31mValueError\u001b[0m                                Traceback (most recent call last)",
      "Cell \u001b[0;32mIn[7], line 67\u001b[0m\n\u001b[1;32m     64\u001b[0m     \u001b[39mreturn\u001b[39;00m regions_extended\n\u001b[1;32m     66\u001b[0m results_extended \u001b[39m=\u001b[39m []\n\u001b[0;32m---> 67\u001b[0m regions_extended \u001b[39m=\u001b[39m extend_regions()\n\u001b[1;32m     68\u001b[0m \u001b[39mprint\u001b[39m(regions_extended)\n",
      "Cell \u001b[0;32mIn[7], line 10\u001b[0m, in \u001b[0;36mextend_regions\u001b[0;34m()\u001b[0m\n\u001b[1;32m      6\u001b[0m chr_regions \u001b[39m=\u001b[39m regions_filt\u001b[39m.\u001b[39mloc[regions_filt[\u001b[39m\"\u001b[39m\u001b[39mchr\u001b[39m\u001b[39m\"\u001b[39m] \u001b[39m==\u001b[39m \u001b[39mchr\u001b[39m]\n\u001b[1;32m      8\u001b[0m \u001b[39mfor\u001b[39;00m reg \u001b[39min\u001b[39;00m \u001b[39mrange\u001b[39m(chr_regions\u001b[39m.\u001b[39mshape[\u001b[39m0\u001b[39m]):\n\u001b[0;32m---> 10\u001b[0m     score \u001b[39m=\u001b[39m chr_regions\u001b[39m.\u001b[39;49miloc[reg,\u001b[39m\"\u001b[39;49m\u001b[39mstart_score\u001b[39;49m\u001b[39m\"\u001b[39;49m]\n\u001b[1;32m     11\u001b[0m     start \u001b[39m=\u001b[39m chr_regions\u001b[39m.\u001b[39miloc[reg,\u001b[39m\"\u001b[39m\u001b[39mstart\u001b[39m\u001b[39m\"\u001b[39m]\n\u001b[1;32m     12\u001b[0m     end \u001b[39m=\u001b[39m chr_regions\u001b[39m.\u001b[39miloc[reg,\u001b[39m\"\u001b[39m\u001b[39mend\u001b[39m\u001b[39m\"\u001b[39m]\n",
      "File \u001b[0;32m~/.local/lib/python3.10/site-packages/pandas/core/indexing.py:1067\u001b[0m, in \u001b[0;36m_LocationIndexer.__getitem__\u001b[0;34m(self, key)\u001b[0m\n\u001b[1;32m   1065\u001b[0m     \u001b[39mif\u001b[39;00m \u001b[39mself\u001b[39m\u001b[39m.\u001b[39m_is_scalar_access(key):\n\u001b[1;32m   1066\u001b[0m         \u001b[39mreturn\u001b[39;00m \u001b[39mself\u001b[39m\u001b[39m.\u001b[39mobj\u001b[39m.\u001b[39m_get_value(\u001b[39m*\u001b[39mkey, takeable\u001b[39m=\u001b[39m\u001b[39mself\u001b[39m\u001b[39m.\u001b[39m_takeable)\n\u001b[0;32m-> 1067\u001b[0m     \u001b[39mreturn\u001b[39;00m \u001b[39mself\u001b[39;49m\u001b[39m.\u001b[39;49m_getitem_tuple(key)\n\u001b[1;32m   1068\u001b[0m \u001b[39melse\u001b[39;00m:\n\u001b[1;32m   1069\u001b[0m     \u001b[39m# we by definition only have the 0th axis\u001b[39;00m\n\u001b[1;32m   1070\u001b[0m     axis \u001b[39m=\u001b[39m \u001b[39mself\u001b[39m\u001b[39m.\u001b[39maxis \u001b[39mor\u001b[39;00m \u001b[39m0\u001b[39m\n",
      "File \u001b[0;32m~/.local/lib/python3.10/site-packages/pandas/core/indexing.py:1563\u001b[0m, in \u001b[0;36m_iLocIndexer._getitem_tuple\u001b[0;34m(self, tup)\u001b[0m\n\u001b[1;32m   1561\u001b[0m \u001b[39mdef\u001b[39;00m \u001b[39m_getitem_tuple\u001b[39m(\u001b[39mself\u001b[39m, tup: \u001b[39mtuple\u001b[39m):\n\u001b[0;32m-> 1563\u001b[0m     tup \u001b[39m=\u001b[39m \u001b[39mself\u001b[39;49m\u001b[39m.\u001b[39;49m_validate_tuple_indexer(tup)\n\u001b[1;32m   1564\u001b[0m     \u001b[39mwith\u001b[39;00m suppress(IndexingError):\n\u001b[1;32m   1565\u001b[0m         \u001b[39mreturn\u001b[39;00m \u001b[39mself\u001b[39m\u001b[39m.\u001b[39m_getitem_lowerdim(tup)\n",
      "File \u001b[0;32m~/.local/lib/python3.10/site-packages/pandas/core/indexing.py:875\u001b[0m, in \u001b[0;36m_LocationIndexer._validate_tuple_indexer\u001b[0;34m(self, key)\u001b[0m\n\u001b[1;32m    873\u001b[0m         \u001b[39mself\u001b[39m\u001b[39m.\u001b[39m_validate_key(k, i)\n\u001b[1;32m    874\u001b[0m     \u001b[39mexcept\u001b[39;00m \u001b[39mValueError\u001b[39;00m \u001b[39mas\u001b[39;00m err:\n\u001b[0;32m--> 875\u001b[0m         \u001b[39mraise\u001b[39;00m \u001b[39mValueError\u001b[39;00m(\n\u001b[1;32m    876\u001b[0m             \u001b[39m\"\u001b[39m\u001b[39mLocation based indexing can only have \u001b[39m\u001b[39m\"\u001b[39m\n\u001b[1;32m    877\u001b[0m             \u001b[39mf\u001b[39m\u001b[39m\"\u001b[39m\u001b[39m[\u001b[39m\u001b[39m{\u001b[39;00m\u001b[39mself\u001b[39m\u001b[39m.\u001b[39m_valid_types\u001b[39m}\u001b[39;00m\u001b[39m] types\u001b[39m\u001b[39m\"\u001b[39m\n\u001b[1;32m    878\u001b[0m         ) \u001b[39mfrom\u001b[39;00m \u001b[39merr\u001b[39;00m\n\u001b[1;32m    879\u001b[0m \u001b[39mreturn\u001b[39;00m key\n",
      "\u001b[0;31mValueError\u001b[0m: Location based indexing can only have [integer, integer slice (START point is INCLUDED, END point is EXCLUDED), listlike of integers, boolean array] types"
     ]
    }
   ],
   "source": [
    "def extend_regions():\n",
    "    for chr in chr_list:\n",
    "        \n",
    "        chr_data = data.loc[data[\"chr\"] == chr]\n",
    "\n",
    "        chr_regions = regions_filt.loc[regions_filt[\"chr\"] == chr]\n",
    "\n",
    "        for reg in range(chr_regions.shape[0]):\n",
    "\n",
    "            score = chr_regions.iloc[reg].loc[\"start_score\"]\n",
    "            start = chr_regions.iloc[reg].loc[\"start\"]\n",
    "            end = chr_regions.iloc[reg].loc[\"end\"]\n",
    "            n_hom = chr_regions.iloc[reg].loc[\"n_hom\"]\n",
    "\n",
    "            row_nr_start = chr_data.loc[chr_data['locus'] == start,'id'].iat[0]\n",
    "            row_nr_end = chr_data.loc[chr_data['locus'] == end, 'id'].iat[0]\n",
    "                \n",
    "            n_het = 0\n",
    "\n",
    "            while score > 0:\n",
    "                row_nr_start += -1\n",
    "                row_nr_end += 1\n",
    "                # start_score = chr_data.filter(pl.col(\"row_nr\") == row_nr_start).select(\"locus_score\")[0,0]\n",
    "                # end_score = chr_data.filter(pl.col(\"row_nr\") == row_nr_end).select(\"locus_score\")[0,0]\n",
    "                start_score = chr_data.loc[chr_data['id'] == row_nr_start, 'allele_score'].iat[0]\n",
    "                end_score = chr_data.loc[chr_data['id'] == row_nr_end, 'allele_score'].iat[0]\n",
    "\n",
    "\n",
    "                if start_score <0 :\n",
    "                    n_het += 1\n",
    "\n",
    "                elif start_score >0 :\n",
    "                    n_hom += 1\n",
    "                        \n",
    "                if end_score  <0 :\n",
    "                    n_het += 1\n",
    "\n",
    "                elif end_score >0 :     \n",
    "                    n_hom += 1\n",
    "\n",
    "                score += start_score\n",
    "                score += end_score\n",
    "\n",
    "                if score <0:\n",
    "                    if start_score <0 :\n",
    "                        final_start = chr_data.loc[chr_data['id'] == row_nr_start +1, 'locus'].iat[0]\n",
    "                    elif start_score >0 :\n",
    "                        final_start = chr_data.loc[chr_data['id'] == row_nr_start, 'locus'].iat[0]\n",
    "\n",
    "                    if end_score  <0 :\n",
    "                        final_end = chr_data.loc[chr_data['id'] == row_nr_end -1, 'locus'].iat[0]\n",
    "                    elif end_score >0 :\n",
    "                        final_end = chr_data.loc[chr_data['id'] == row_nr_end, 'locus'].iat[0]\n",
    "\n",
    "                    \n",
    "                    stretch = [chr, final_start, final_end, n_hom, n_het] \n",
    "                    results_extended.append(stretch)\n",
    "\n",
    "    regions_extended = np.DataFrame(results_extended, columns = [\"chr\", \"start\", \"end\", \"n_hom\", \"n_het\"])\n",
    "    return regions_extended\n",
    "\n",
    "results_extended = []\n",
    "regions_extended = extend_regions()\n",
    "print(regions_extended)"
   ]
  },
  {
   "cell_type": "code",
   "execution_count": 25,
   "metadata": {},
   "outputs": [
    {
     "name": "stdout",
     "output_type": "stream",
     "text": [
      "1.3250000000000002 4500\n"
     ]
    }
   ],
   "source": [
    "\n",
    "#for reg in range(chr_regions.shape[0]):\n",
    "reg = 1\n",
    "\n",
    "score = chr_regions.iloc[reg].loc[\"start_score\"]\n",
    "start = chr_regions.iloc[reg].loc[\"start\"]\n",
    "end = chr_regions.iloc[reg].loc[\"end\"]\n",
    "n_hom = chr_regions.iloc[reg].loc[\"n_hom\"]\n",
    "\n",
    "row_nr_start = chr_data.loc[chr_data['locus'] == start,'id'].iat[0]\n",
    "row_nr_end = chr_data.loc[chr_data['locus'] == end, 'id'].iat[0]\n",
    "\n",
    "print(score, row_nr_start)\n",
    "n_het = 0\n"
   ]
  },
  {
   "cell_type": "code",
   "execution_count": null,
   "metadata": {},
   "outputs": [],
   "source": [
    "\n",
    "    while score > 0:\n",
    "        row_nr_start += -1\n",
    "        row_nr_end += 1\n",
    "        # start_score = chr_data.filter(pl.col(\"row_nr\") == row_nr_start).select(\"locus_score\")[0,0]\n",
    "        # end_score = chr_data.filter(pl.col(\"row_nr\") == row_nr_end).select(\"locus_score\")[0,0]\n",
    "        start_score = chr_data.loc[chr_data['id'] == row_nr_start, 'allele_score'].iat[0]\n",
    "        end_score = chr_data.loc[chr_data['id'] == row_nr_end, 'allele_score'].iat[0]\n",
    "\n",
    "\n",
    "        if start_score <0 :\n",
    "            n_het += 1\n",
    "\n",
    "        elif start_score >0 :\n",
    "            n_hom += 1\n",
    "                \n",
    "        if end_score  <0 :\n",
    "            n_het += 1\n",
    "\n",
    "        elif end_score >0 :     \n",
    "            n_hom += 1\n",
    "\n",
    "        score += start_score\n",
    "        score += end_score\n",
    "\n",
    "        if score <0:\n",
    "            if start_score <0 :\n",
    "                final_start = chr_data.loc[chr_data['id'] == row_nr_start +1, 'locus'].iat[0]\n",
    "            elif start_score >0 :\n",
    "                final_start = chr_data.loc[chr_data['id'] == row_nr_start, 'locus'].iat[0]\n",
    "\n",
    "            if end_score  <0 :\n",
    "                final_end = chr_data.loc[chr_data['id'] == row_nr_end -1, 'locus'].iat[0]\n",
    "            elif end_score >0 :\n",
    "                final_end = chr_data.loc[chr_data['id'] == row_nr_end, 'locus'].iat[0]\n",
    "\n",
    "            \n",
    "            stretch = [chr, final_start, final_end, n_hom, n_het] \n",
    "            results_extended.append(stretch)\n",
    "\n",
    "# regions_extended = np.DataFrame(results_extended, columns = [\"chr\", \"start\", \"end\", \"n_hom\", \"n_het\"])\n",
    "# return regions_extended\n",
    "\n",
    "results_extended = []\n",
    "regions_extended = extend_regions()\n",
    "print(regions_extended)"
   ]
  },
  {
   "cell_type": "code",
   "execution_count": null,
   "metadata": {},
   "outputs": [],
   "source": [
    "  \n",
    "\n",
    "regions_filt = regions_filt.with_columns([\n",
    "    (np.col(\"n_hom\") * hom_score).alias(\"start_score\")])\n",
    "\n",
    "\n",
    "\n",
    "results_extended = []\n",
    "regions_extended = extend_regions()\n",
    "           \n",
    "regions_extended.write_csv(\"results_extended.csv\")\n",
    "\n"
   ]
  }
 ],
 "metadata": {
  "kernelspec": {
   "display_name": "python3.10",
   "language": "python",
   "name": "python3"
  },
  "language_info": {
   "codemirror_mode": {
    "name": "ipython",
    "version": 3
   },
   "file_extension": ".py",
   "mimetype": "text/x-python",
   "name": "python",
   "nbconvert_exporter": "python",
   "pygments_lexer": "ipython3",
   "version": "3.10.8"
  },
  "orig_nbformat": 4,
  "vscode": {
   "interpreter": {
    "hash": "817daa7cc3a594b43538afe7d58ba2686c35739ae125d09b2270e350342c9ac2"
   }
  }
 },
 "nbformat": 4,
 "nbformat_minor": 2
}
