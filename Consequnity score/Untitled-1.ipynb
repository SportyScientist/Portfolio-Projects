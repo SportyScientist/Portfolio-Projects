{
 "cells": [
  {
   "cell_type": "code",
   "execution_count": 1,
   "metadata": {},
   "outputs": [],
   "source": [
    "# screening test resolve bioscience\n",
    "\n",
    "#Author: Marlene Ganslmeier\n",
    "\n",
    "import random #technically a library but I feel it's too much to ask to write your own randomness algorithm\n",
    "#it also comes with the standard installation so I think it count's as acceptable \n",
    "import csv #same applies\n",
    "\n",
    "#function to create a random string comprised of the 4 bases with length n\n",
    "def create_seq(n):\n",
    "    bases = [\"A\", \"T\", \"G\", \"C\"]\n",
    "    seq = []\n",
    "    seq = [random.choice(bases) for x in range(n)]\n",
    "    \n",
    "    return seq\n",
    "\n",
    "class HashMap:\n",
    "\n",
    "    def __init__(self, size):\n",
    "        self.array_size = size\n",
    "        self.array = [None for i in range(size)]\n",
    "    \n",
    "    def indexing(self, key):\n",
    "        hash_code = key.encode()\n",
    "        hash_code = sum(hash_code)\n",
    "        index = hash_code % self.array_size\n",
    "        return index\n",
    "\n",
    "    def assign(self, key):\n",
    "        index = self.indexing(key)\n",
    "\n",
    "        if self.array[index] == None:\n",
    "           self.array[index] = [key]\n",
    "        else:\n",
    "            self.array[index].append(key)\n",
    "            return True\n",
    "    \n",
    "    def retrieve(self, key):\n",
    "        index = self.indexing(key)\n",
    "        list_at_index = self.array[index]\n",
    "\n",
    "        if list_at_index == None:\n",
    "            return None\n",
    "        else:\n",
    "            for item in list_at_index:\n",
    "                if item == key:\n",
    "                    return item\n",
    "                else:\n",
    "                    return None"
   ]
  },
  {
   "cell_type": "code",
   "execution_count": 5,
   "metadata": {},
   "outputs": [
    {
     "name": "stdout",
     "output_type": "stream",
     "text": [
      "TGT\n"
     ]
    }
   ],
   "source": [
    "\n",
    "first_slot = HashMap(96)\n",
    "seq = \"\".join(create_seq(6))\n",
    "print(seq[0:3])\n",
    "first_slot.assign(seq[0:3])\n",
    "\n"
   ]
  }
 ],
 "metadata": {
  "kernelspec": {
   "display_name": "Python 3",
   "language": "python",
   "name": "python3"
  },
  "language_info": {
   "codemirror_mode": {
    "name": "ipython",
    "version": 3
   },
   "file_extension": ".py",
   "mimetype": "text/x-python",
   "name": "python",
   "nbconvert_exporter": "python",
   "pygments_lexer": "ipython3",
   "version": "3.10.6"
  },
  "orig_nbformat": 4,
  "vscode": {
   "interpreter": {
    "hash": "916dbcbb3f70747c44a77c7bcd40155683ae19c65e1c03b4aa3499c5328201f1"
   }
  }
 },
 "nbformat": 4,
 "nbformat_minor": 2
}
